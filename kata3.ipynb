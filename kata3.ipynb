{
 "cells": [
  {
   "cell_type": "code",
   "execution_count": 18,
   "metadata": {},
   "outputs": [
    {
     "name": "stdout",
     "output_type": "stream",
     "text": [
      "advertencia, se acerca un asteoride!\n"
     ]
    }
   ],
   "source": [
    "##Ejercicio 1\n",
    "asteoride=49\n",
    "if asteoride>25:\n",
    "    print(\"advertencia, se acerca un asteoride!\")\n",
    "else:\n",
    "    print(\"todo normal\")"
   ]
  },
  {
   "cell_type": "code",
   "execution_count": 29,
   "metadata": {},
   "outputs": [
    {
     "name": "stdout",
     "output_type": "stream",
     "text": [
      "todo normal\n"
     ]
    }
   ],
   "source": [
    "##Ejercicio 2\n",
    "asteoride=19\n",
    "if asteoride>20:\n",
    "    print(\"Hay un rayo de luz en el cielo\")\n",
    "elif asteoride==20:\n",
    "    print(\"hay rayo de luz en el cielo!\")\n",
    "else:\n",
    "    print(\"todo normal\")"
   ]
  },
  {
   "cell_type": "code",
   "execution_count": 43,
   "metadata": {},
   "outputs": [
    {
     "name": "stdout",
     "output_type": "stream",
     "text": [
      "un rayo de luz en el cielo!\n"
     ]
    }
   ],
   "source": [
    "##Ejercicio 3\n",
    "velo_asteroide = 25\n",
    "tam_asteroide = 40\n",
    "if velo_asteroide>25 and tam_asteroide>25:\n",
    "    print(\"Se acerca un asteoride\")\n",
    "elif velo_asteroide>=20:\n",
    "    print(\"un rayo de luz en el cielo!\")\n",
    "elif tam_asteroide<25:\n",
    "    print(\"Todo normal\")\n",
    "else:\n",
    "    print(\"todo normal\")"
   ]
  }
 ],
 "metadata": {
  "language_info": {
   "name": "python"
  },
  "orig_nbformat": 4
 },
 "nbformat": 4,
 "nbformat_minor": 2
}
