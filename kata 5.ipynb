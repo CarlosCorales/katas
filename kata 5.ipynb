{
 "cells": [
  {
   "cell_type": "markdown",
   "metadata": {},
   "source": [
    "## Ejercicio 1 kata 5"
   ]
  },
  {
   "cell_type": "code",
   "execution_count": 11,
   "metadata": {},
   "outputs": [
    {
     "name": "stdout",
     "output_type": "stream",
     "text": [
      "628949330\n"
     ]
    }
   ],
   "source": [
    "tierra= (149597870)\n",
    "jupiter= (778547200)\n",
    "\n",
    "distancia= tierra-jupiter\n",
    "print(abs(distancia))\n",
    "\n"
   ]
  },
  {
   "cell_type": "code",
   "execution_count": 15,
   "metadata": {},
   "outputs": [
    {
     "name": "stdout",
     "output_type": "stream",
     "text": [
      "390577533.93\n"
     ]
    }
   ],
   "source": [
    "distancia_millas= distancia*float(0.621)\n",
    "print(abs(distancia_millas))"
   ]
  },
  {
   "cell_type": "markdown",
   "metadata": {},
   "source": [
    "## Ejercicio 2 kata 5\n"
   ]
  },
  {
   "cell_type": "code",
   "execution_count": 1,
   "metadata": {},
   "outputs": [
    {
     "name": "stdout",
     "output_type": "stream",
     "text": [
      "2814600000\n"
     ]
    }
   ],
   "source": [
    "distancia_1= input('distancia del primer planeta al sol')\n",
    "distancia_2= input('distancia del segundo planeta al sol')\n",
    "\n",
    "distancia_1=int(distancia_1)\n",
    "distancia_2=int(distancia_2)\n",
    "\n",
    "dist_planetas= distancia_1-distancia_2\n",
    "print(abs(dist_planetas))"
   ]
  },
  {
   "cell_type": "code",
   "execution_count": 2,
   "metadata": {},
   "outputs": [
    {
     "name": "stdout",
     "output_type": "stream",
     "text": [
      "1716906000.0\n"
     ]
    }
   ],
   "source": [
    "km_millas= dist_planetas*float(0.61)\n",
    "print(km_millas)"
   ]
  }
 ],
 "metadata": {
  "interpreter": {
   "hash": "9725f148ce0d2e4b006db1bf84bf2d1dc4c22f6c2b42b832263c5c2a2c39d3f9"
  },
  "kernelspec": {
   "display_name": "Python 3.10.2 64-bit",
   "language": "python",
   "name": "python3"
  },
  "language_info": {
   "codemirror_mode": {
    "name": "ipython",
    "version": 3
   },
   "file_extension": ".py",
   "mimetype": "text/x-python",
   "name": "python",
   "nbconvert_exporter": "python",
   "pygments_lexer": "ipython3",
   "version": "3.10.2"
  },
  "orig_nbformat": 4
 },
 "nbformat": 4,
 "nbformat_minor": 2
}
