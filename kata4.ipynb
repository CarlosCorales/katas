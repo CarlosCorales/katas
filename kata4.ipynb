{
  "cells": [
    {
      "cell_type": "markdown",
      "metadata": {},
      "source": [
        "## Ejercicio 1 kata 4"
      ]
    },
    {
      "cell_type": "code",
      "execution_count": 41,
      "metadata": {},
      "outputs": [
        {
          "data": {
            "text/plain": [
              "['El texto anterior era demasiado largo y faltaban partes',\n",
              " ' como letras asi que decidi cambiarlo por este para poder separarlo']"
            ]
          },
          "execution_count": 41,
          "metadata": {},
          "output_type": "execute_result"
        }
      ],
      "source": [
        "text = \"El texto anterior era demasiado largo y faltaban partes. como letras asi que decidi cambiarlo por este para poder separarlo\"\n",
        "\n",
        "text.split(\".\")"
      ]
    },
    {
      "cell_type": "code",
      "execution_count": 42,
      "metadata": {},
      "outputs": [
        {
          "name": "stdout",
          "output_type": "stream",
          "text": [
            "El texto anterior era demasiado largo y faltaban partes. como letras asi que decidi cambiarlo por este para poder separarlo\n"
          ]
        }
      ],
      "source": [
        "clave=(\"letras, cambiarlo, separarlo\")\n",
        "\n",
        "for part in clave:\n",
        "    \n",
        "    if part in  text:\n",
        "       print(text)\n",
        "    \n",
        "    break"
      ]
    },
    {
      "cell_type": "markdown",
      "metadata": {},
      "source": [
        "## No entendi la parte de C de Celsius:("
      ]
    },
    {
      "cell_type": "markdown",
      "metadata": {},
      "source": [
        "## Ejercicio 2 kata 4"
      ]
    },
    {
      "cell_type": "code",
      "execution_count": 69,
      "metadata": {},
      "outputs": [
        {
          "name": "stdout",
          "output_type": "stream",
          "text": [
            "--\n",
            "name: Marte  \n",
            "gravedad en Moon: 1.4300000000000002 m/s2\n"
          ]
        }
      ],
      "source": [
        "name = \"Moon\"\n",
        "gravity = 0.00162 # in kms\n",
        "planet = \"Earth\"\n",
        "\n",
        "title = f' gravedad en {name}'\n",
        "\n",
        "hechos= f\"\"\"{\"-\"*2}\n",
        "name: {planeta} \n",
        "gravedad en {name}: {gravedad * 1000} m/s2\"\"\"\n",
        "\n",
        "template = f\"\"\"{title.title()} \n",
        "{hechos} \n",
        "\"\"\" \n",
        "print(hechos)"
      ]
    },
    {
      "cell_type": "markdown",
      "metadata": {},
      "source": [
        "# no entendi lo que sigue"
      ]
    }
  ],
  "metadata": {
    "interpreter": {
      "hash": "9725f148ce0d2e4b006db1bf84bf2d1dc4c22f6c2b42b832263c5c2a2c39d3f9"
    },
    "kernelspec": {
      "display_name": "Python 3.10.2 64-bit",
      "language": "python",
      "name": "python3"
    },
    "language_info": {
      "codemirror_mode": {
        "name": "ipython",
        "version": 3
      },
      "file_extension": ".py",
      "mimetype": "text/x-python",
      "name": "python",
      "nbconvert_exporter": "python",
      "pygments_lexer": "ipython3",
      "version": "3.10.2"
    },
    "orig_nbformat": 4
  },
  "nbformat": 4,
  "nbformat_minor": 2
}
