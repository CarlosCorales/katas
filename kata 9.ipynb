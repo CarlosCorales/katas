{
 "cells": [
  {
   "cell_type": "markdown",
   "metadata": {},
   "source": [
    "## kata 9 \n",
    "# ejercicio 1"
   ]
  },
  {
   "cell_type": "code",
   "execution_count": 10,
   "metadata": {},
   "outputs": [
    {
     "name": "stdout",
     "output_type": "stream",
     "text": [
      "Fuel Report:\n",
      "    Total Average: 78.33333333333333%\n",
      "    Tanque1: 80%\n",
      "    Tanque2: 70%\n",
      "    Tanque3: 85% \n",
      "    \n",
      "Fuel Report:\n",
      "        Total Average: 78.0%\n",
      "        Tanque1: 88%\n",
      "        Tanque2: 76%\n",
      "        Tanque3: 70% \n",
      "    \n"
     ]
    }
   ],
   "source": [
    "def tanques_reporte(tanque1, tanque2, tanque3):\n",
    "    total_average = (tanque1 + tanque2 + tanque3) / 3\n",
    "    return f\"\"\"Fuel Report:\n",
    "    Total Average: {total_average}%\n",
    "    Tanque1: {tanque1}%\n",
    "    Tanque2: {tanque2}%\n",
    "    Tanque3: {tanque3}% \n",
    "    \"\"\"\n",
    "print(tanques_reporte(80, 70, 85))\n",
    "\n",
    "def average(values):\n",
    "        total = sum(values)\n",
    "        numero_tanques = len(values)\n",
    "        return total / numero_tanques\n",
    "\n",
    "average([80, 85, 81])\n",
    "\n",
    "\n",
    "def tanques_reporte(tanque1, tanque2, tanque3):\n",
    "        return f\"\"\"Fuel Report:\n",
    "        Total Average: {average([tanque1, tanque2, tanque3])}%\n",
    "        Tanque1: {tanque1}%\n",
    "        Tanque2: {tanque2}%\n",
    "        Tanque3: {tanque3}% \n",
    "    \"\"\"\n",
    "\n",
    "print(tanques_reporte(88, 76, 70))"
   ]
  },
  {
   "cell_type": "code",
   "execution_count": null,
   "metadata": {},
   "outputs": [],
   "source": []
  }
 ],
 "metadata": {
  "interpreter": {
   "hash": "9725f148ce0d2e4b006db1bf84bf2d1dc4c22f6c2b42b832263c5c2a2c39d3f9"
  },
  "kernelspec": {
   "display_name": "Python 3.10.2 64-bit",
   "language": "python",
   "name": "python3"
  },
  "language_info": {
   "codemirror_mode": {
    "name": "ipython",
    "version": 3
   },
   "file_extension": ".py",
   "mimetype": "text/x-python",
   "name": "python",
   "nbconvert_exporter": "python",
   "pygments_lexer": "ipython3",
   "version": "3.10.2"
  },
  "orig_nbformat": 4
 },
 "nbformat": 4,
 "nbformat_minor": 2
}
