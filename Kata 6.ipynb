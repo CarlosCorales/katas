{
 "cells": [
  {
   "cell_type": "markdown",
   "metadata": {},
   "source": [
    "## kata 6\n",
    "\n",
    "# ejercicio 1"
   ]
  },
  {
   "cell_type": "code",
   "execution_count": 18,
   "metadata": {},
   "outputs": [
    {
     "name": "stdout",
     "output_type": "stream",
     "text": [
      "['mercurio', 'venus', 'tierra', 'marte', 'jupiter', 'saturno', 'urano', 'neptuno']\n",
      "['mercurio', 'venus', 'tierra', 'marte', 'jupiter', 'saturno', 'urano', 'neptuno', 'Pluton']\n",
      "hay un total de 9  planetas en el sistema\n",
      "el ulitmo planeta del sistema es Pluton\n"
     ]
    }
   ],
   "source": [
    "planetas= ['mercurio', 'venus', 'tierra','marte', 'jupiter', 'saturno', 'urano', 'neptuno']\n",
    "print(planetas)\n",
    "\n",
    "planetas.append('Pluton')\n",
    "print(planetas)\n",
    "\n",
    "num_planetas= len(planetas)\n",
    "print('hay un total de', num_planetas, ' planetas en el sistema')\n",
    "\n",
    "print('el ulitmo planeta del sistema es', planetas[8])"
   ]
  },
  {
   "cell_type": "markdown",
   "metadata": {},
   "source": [
    "# ejercicio 2\n"
   ]
  },
  {
   "cell_type": "code",
   "execution_count": 44,
   "metadata": {},
   "outputs": [
    {
     "name": "stdout",
     "output_type": "stream",
     "text": [
      "5\n",
      "Los planetas mas cerca de Saturno\n",
      "['Mercurio', 'Venus', 'Tierra', 'Marte', 'Jupiter']\n"
     ]
    }
   ],
   "source": [
    "planetas = ['Mercurio', 'Venus', 'Tierra', 'Marte', 'Jupiter', 'Saturno', 'Urano', 'Neptuno']\n",
    "planet=input('Escribe el nombre de un planeta')\n",
    "planeta_index = planetas.index(planet)\n",
    "print(planeta_index)\n",
    "\n",
    "print('Los planetas mas cerca de '+ planet)\n",
    "print(planetas[0:planeta_index])"
   ]
  }
 ],
 "metadata": {
  "interpreter": {
   "hash": "9725f148ce0d2e4b006db1bf84bf2d1dc4c22f6c2b42b832263c5c2a2c39d3f9"
  },
  "kernelspec": {
   "display_name": "Python 3.10.2 64-bit",
   "language": "python",
   "name": "python3"
  },
  "language_info": {
   "codemirror_mode": {
    "name": "ipython",
    "version": 3
   },
   "file_extension": ".py",
   "mimetype": "text/x-python",
   "name": "python",
   "nbconvert_exporter": "python",
   "pygments_lexer": "ipython3",
   "version": "3.10.2"
  },
  "orig_nbformat": 4
 },
 "nbformat": 4,
 "nbformat_minor": 2
}
